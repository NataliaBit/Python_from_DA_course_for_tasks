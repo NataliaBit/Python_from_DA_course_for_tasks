{
  "nbformat": 4,
  "nbformat_minor": 0,
  "metadata": {
    "colab": {
      "provenance": []
    },
    "kernelspec": {
      "name": "python3",
      "display_name": "Python 3"
    },
    "language_info": {
      "name": "python"
    }
  },
  "cells": [
    {
      "cell_type": "markdown",
      "source": [
        "В цьому домашньому завданні відпрацюємо з вами знання, отримані в модулі зі статистики.\n",
        "\n",
        "**Завдання 1.** Ми обговорили з Вами на лекції, що велика літера Сігма грецького алфавіту позначає в математиці суму. Знайдіть з використанням Python $\\Sigma x$, $\\Sigma x^2$, та $\\Sigma (x-1)^2$ для наступного набору даних:\n",
        "`1 3 4`\n",
        "Виведіть результат кожного обчислення на екран."
      ],
      "metadata": {
        "id": "SDhaTqxcWhnP"
      }
    },
    {
      "cell_type": "code",
      "source": [
        "x = [1, 3, 4]\n",
        "sum_x = sum(x)\n",
        "sum_sqrx = sum(i**2 for i in x)\n",
        "sum_x_minus1_2 = sum((i - 1)**2 for i in x)\n",
        "print(\"Σx =\", sum_x)\n",
        "print(\"Σx² =\", sum_sqrx)\n",
        "print(\"Σ(x-1)² =\", sum_x_minus1_2)"
      ],
      "metadata": {
        "id": "B1mgx_IBT0e8",
        "colab": {
          "base_uri": "https://localhost:8080/"
        },
        "outputId": "0c812efb-85e9-484d-b989-02dc0c9309c4"
      },
      "execution_count": null,
      "outputs": [
        {
          "output_type": "stream",
          "name": "stdout",
          "text": [
            "Σx = 8\n",
            "Σx² = 26\n",
            "Σ(x-1)² = 13\n"
          ]
        }
      ]
    },
    {
      "cell_type": "markdown",
      "source": [
        "**Завдання 2.** Ми зібрали дані про суму покупок в гривнях 20ма випадково обраними клієнтами в нашому магазині (всього клієнтів у нас більше) за минулий місяць. Вони представлені в змінній `sum_purchases`. Знайдіть **вибіркове середнє** для цих даних кожним з зазначених методів:   \n",
        "\n",
        "  2.1. без використання жодних бібліотек, користуючись тільки Python.  \n",
        "  2.2. використовуючи відповідний метод бібліотеки `numpy`.\n",
        "\n",
        "  Виведіть результат обчислень в кожному з випадків на екран та порівняйте результати. Вони співпадають?"
      ],
      "metadata": {
        "id": "fa78aW5lhiia"
      }
    },
    {
      "cell_type": "code",
      "execution_count": null,
      "metadata": {
        "id": "_9kMt3rq6V5m"
      },
      "outputs": [],
      "source": [
        "sum_purchases = [ 316,  493,  367,  153,  224,  121,  322,  450,  196,  397,  281,\n",
        "  239,  484,  124,  223,  448,  432,  255, 4310, 3524]"
      ]
    },
    {
      "cell_type": "code",
      "source": [
        "x=sum_purchases\n",
        "mean_x = sum(x) / len(x)\n",
        "\n",
        "print(\"Вибіркове середнє:\", mean_x)"
      ],
      "metadata": {
        "id": "wPmL919HT1c0",
        "colab": {
          "base_uri": "https://localhost:8080/"
        },
        "outputId": "a811da59-24f6-48e0-e77d-06436ca7e2e1"
      },
      "execution_count": null,
      "outputs": [
        {
          "output_type": "stream",
          "name": "stdout",
          "text": [
            "Вибіркове середнє: 667.95\n"
          ]
        }
      ]
    },
    {
      "cell_type": "code",
      "source": [
        "import numpy as np\n",
        "\n"
      ],
      "metadata": {
        "id": "LAjguL7Pf0mZ"
      },
      "execution_count": null,
      "outputs": []
    },
    {
      "cell_type": "code",
      "source": [
        "mean_np= np.mean(x)\n",
        "\n",
        "print(\"Вибіркове середнє (NumPy):\", mean_np)"
      ],
      "metadata": {
        "colab": {
          "base_uri": "https://localhost:8080/"
        },
        "id": "uP_B1kU7f-rJ",
        "outputId": "20431cb8-769d-418d-d48f-e11dad10a1ee"
      },
      "execution_count": null,
      "outputs": [
        {
          "output_type": "stream",
          "name": "stdout",
          "text": [
            "Вибіркове середнє (NumPy): 17.75\n"
          ]
        }
      ]
    },
    {
      "cell_type": "markdown",
      "source": [
        "**Завдання 3.** Для того ж набору даних в змінній `sum_purchases` обчисліть **медіану** кожним з зазначених методів:  \n",
        "\n",
        "  3.1. без використання жодних бібліотек, користуючись тільки Python.  \n",
        "  3.2. використовуючи відповідний метод бібліотеки numpy.  \n",
        "\n",
        "Виведіть результат обчислень в кожному з випадків на екран. Порівняйте результати зі значенням вибіркового середнього. Напишіть коментар, для яких задач ви б використовували вибіркове середнє, а для яких - медіану?"
      ],
      "metadata": {
        "id": "FMdoxZd0kZdW"
      }
    },
    {
      "cell_type": "code",
      "source": [
        "n=len(x)\n",
        "print (n)"
      ],
      "metadata": {
        "id": "x58BumvuT2nl",
        "colab": {
          "base_uri": "https://localhost:8080/"
        },
        "outputId": "38a50cb1-954b-4973-925b-ce619448f8bd"
      },
      "execution_count": null,
      "outputs": [
        {
          "output_type": "stream",
          "name": "stdout",
          "text": [
            "20\n"
          ]
        }
      ]
    },
    {
      "cell_type": "code",
      "source": [
        "sorted(x)"
      ],
      "metadata": {
        "colab": {
          "base_uri": "https://localhost:8080/"
        },
        "id": "ILeRcLGXjnpM",
        "outputId": "ba5f9ae6-70d1-4f7e-e620-25e7d10b740e"
      },
      "execution_count": null,
      "outputs": [
        {
          "output_type": "execute_result",
          "data": {
            "text/plain": [
              "[121,\n",
              " 124,\n",
              " 153,\n",
              " 196,\n",
              " 223,\n",
              " 224,\n",
              " 239,\n",
              " 255,\n",
              " 281,\n",
              " 316,\n",
              " 322,\n",
              " 367,\n",
              " 397,\n",
              " 432,\n",
              " 448,\n",
              " 450,\n",
              " 484,\n",
              " 493,\n",
              " 3524,\n",
              " 4310]"
            ]
          },
          "metadata": {},
          "execution_count": 16
        }
      ]
    },
    {
      "cell_type": "code",
      "source": [
        "len(x)//2-1, len(x)//2"
      ],
      "metadata": {
        "colab": {
          "base_uri": "https://localhost:8080/"
        },
        "id": "bavoJa7Aj9HC",
        "outputId": "680841e0-64ba-4192-d002-0deadd32bd88"
      },
      "execution_count": null,
      "outputs": [
        {
          "output_type": "execute_result",
          "data": {
            "text/plain": [
              "(9, 10)"
            ]
          },
          "metadata": {},
          "execution_count": 17
        }
      ]
    },
    {
      "cell_type": "code",
      "source": [
        "(sorted(x)[len(x)//2-1]+sorted(x)[len(x)//2])/2"
      ],
      "metadata": {
        "colab": {
          "base_uri": "https://localhost:8080/"
        },
        "id": "BugvYPW4kgDO",
        "outputId": "7052864b-dae2-47c5-f21b-d0e537a53ff2"
      },
      "execution_count": null,
      "outputs": [
        {
          "output_type": "execute_result",
          "data": {
            "text/plain": [
              "319.0"
            ]
          },
          "metadata": {},
          "execution_count": 18
        }
      ]
    },
    {
      "cell_type": "code",
      "source": [
        "np.median(x)"
      ],
      "metadata": {
        "colab": {
          "base_uri": "https://localhost:8080/"
        },
        "id": "jU9-3slTkvzD",
        "outputId": "6a5bbbe9-2a0f-4cc1-efc1-8f5d1f682fb7"
      },
      "execution_count": null,
      "outputs": [
        {
          "output_type": "execute_result",
          "data": {
            "text/plain": [
              "np.float64(319.0)"
            ]
          },
          "metadata": {},
          "execution_count": 19
        }
      ]
    },
    {
      "cell_type": "code",
      "source": [
        "# В нашому списку покупок, який ми зібрали випадково, як бачимо - два значення значно відрізняються від решти- мають велике відхилення (3524, 4210).\n",
        "Тобто, в такому випадку немає сенсу використовувати для аналізу середнього чеку вибіркове середнє - адже ці два великі значення значно перетягують\n",
        "в більшу сторону результати. Ми це бачимо по значеннях Вибіркове  - 667,95, та Медіані - 319 (різниця більше ніж в 2 рази). Тому для аналізу середнього\n",
        "чеку краще використовувати медіану -вона дає більш реалістичне значення. Якщо б в нас дані були рівномірні, без великих викидів -можна було б використовувати\n",
        "як вибіркове середнє, так і медіану.Але в нашому випадку - при двох значних відхиленнях-  доцільніше буде використати саме медіанне значення.\n"
      ],
      "metadata": {
        "id": "tVVf-WbrnWcW"
      },
      "execution_count": null,
      "outputs": []
    },
    {
      "cell_type": "markdown",
      "source": [
        "**Завдання 4**. Обчислість стандартне відхилення наведеної вибірки в змінній `sum_purchases` кожним з зазначених методів:  \n",
        "\n",
        "  4.1. без використання жодних бібліотек, користуючись тільки Python.  \n",
        "  4.2. використовуючи відповідний метод бібліотеки numpy.  \n",
        "\n",
        "Виведіть результат обчислень в кожному з випадків на екран."
      ],
      "metadata": {
        "id": "o1Z7az2yNDQV"
      }
    },
    {
      "cell_type": "code",
      "execution_count": null,
      "metadata": {
        "id": "QKcYm1m27f_u"
      },
      "outputs": [],
      "source": [
        "sum_purchases = [ 316,  493,  367,  153,  224,  121,  322,  450,  196,  397,  281,\n",
        "  239,  484,  124,  223,  448,  432,  255, 4310, 3524]"
      ]
    },
    {
      "cell_type": "code",
      "source": [
        "mean_sp= sum(sum_purchases) / len(sum_purchases)\n",
        "\n",
        "var_x_sp = sum((x - mean_sp) ** 2 for x in sum_purchases) / (len(sum_purchases)-1)\n",
        "std_x_sp = var_x_sp**0.5\n",
        "print(\"Стандартне відхилення:\", std_x_sp)"
      ],
      "metadata": {
        "colab": {
          "base_uri": "https://localhost:8080/"
        },
        "outputId": "344690c2-fe4b-4489-824d-094e532105f4",
        "id": "HNG-jQ3207iW"
      },
      "execution_count": null,
      "outputs": [
        {
          "output_type": "stream",
          "name": "stdout",
          "text": [
            "Стандартне відхилення: 1124.5433447451132\n"
          ]
        }
      ]
    },
    {
      "cell_type": "code",
      "source": [
        "import numpy as np\n",
        "\n",
        "sum_purchases = np.array([316, 493, 367, 153, 224, 121, 322, 450, 196, 397,\n",
        "                          281, 239, 484, 124, 223, 448, 432, 255, 4310, 3524])\n",
        "\n",
        "std_x_sp = np.std(sum_purchases, ddof=1)\n",
        "print(\"Стандартне відхилення:\", std_x_sp)"
      ],
      "metadata": {
        "colab": {
          "base_uri": "https://localhost:8080/"
        },
        "id": "MDPLUH1T8tCo",
        "outputId": "9b39b350-1a9f-4af0-8cf8-defe11aac61d"
      },
      "execution_count": null,
      "outputs": [
        {
          "output_type": "stream",
          "name": "stdout",
          "text": [
            "Стандартне відхилення: 1124.5433447451132\n"
          ]
        }
      ]
    },
    {
      "cell_type": "markdown",
      "source": [
        "\n",
        "\n",
        "\n",
        "\n",
        "\n",
        "**Завдання 5**. Ми провели дослідження віку студентів-першокурсників. Виявилось, що\n",
        "- 10 студентів мають вік 16 років\n",
        "- 25 студентів - 17 років\n",
        "- 20 студентів - 18 років\n",
        "- 2 студенти - 20 років\n",
        "\n",
        "Обчислість середнє значення для цієї вибірки будь-яким способом - на чистому Python або з numpy - та виведіть результат на екран."
      ],
      "metadata": {
        "id": "M1ntKTjXLVlH"
      }
    },
    {
      "cell_type": "code",
      "source": [],
      "metadata": {
        "id": "-Igh8V2bFujV"
      },
      "execution_count": null,
      "outputs": []
    },
    {
      "cell_type": "code",
      "source": [
        "x = [16, 17, 18, 20]\n",
        "y = [10, 25, 20, 2]\n",
        "sum_weight = 0\n",
        "for i in range(len(x)):\n",
        "    sum_weight = sum_weight + x[i] * y[i]\n",
        "total_students = sum(y)\n",
        "mean_age = sum_weight / total_students\n",
        "print(\"Середній вік студентів:\", mean_age)\n"
      ],
      "metadata": {
        "id": "RdIU4M-7T8R4",
        "colab": {
          "base_uri": "https://localhost:8080/"
        },
        "outputId": "aae945ae-deac-4947-e4cf-d2615e1da4a5"
      },
      "execution_count": null,
      "outputs": [
        {
          "output_type": "stream",
          "name": "stdout",
          "text": [
            "Середній вік студентів: 17.280701754385966\n"
          ]
        }
      ]
    },
    {
      "cell_type": "code",
      "execution_count": null,
      "metadata": {
        "id": "36p8hBTezgwe"
      },
      "outputs": [],
      "source": [
        "sum_purchases = [ 316,  493,  367,  153,  224,  121,  322,  450,  196,  397,  281,\n",
        "  239,  484,  124,  223,  448,  432,  255, 4310, 3524]"
      ]
    },
    {
      "cell_type": "markdown",
      "source": [
        "**Завдання 6**. Крім даних про суму покупок, ми зібрали ще дані про кількість відвідувань кожного з кожного покупця, які знаходяться в змінній `visits`. Обчисліть коефіцієнт кореляції Пірсона для суми покупок і кількості відвідувань кожним з зазначених методів:  \n",
        "\n",
        "  6.1. без використання жодних бібліотек, користуючись тільки Python.  \n",
        "  6.2. використовуючи відповідний метод бібліотеки numpy.  \n",
        "  \n",
        "Виведіть результат на екран. Проаналізуйте результат.\n",
        "\n",
        "Виведіть додатково графік розсіювання викликавши код нижче і зробіть заключення, чи варто щось змінити при підрахунку кореляції, аби коефіцієнт Пірсона показував коректну оцінку лінійної залежності?"
      ],
      "metadata": {
        "id": "Xx8MFkkVM53z"
      }
    },
    {
      "cell_type": "code",
      "source": [
        "visits = [ 6,  2, 10,  3,  9,  9,  2,  3,  6,  6, 10,  2,  5, 10,  3,  5,  4,\n",
        "        7,  4,  2]\n",
        ""
      ],
      "metadata": {
        "id": "4OIGBT7UOWhO"
      },
      "execution_count": 4,
      "outputs": []
    },
    {
      "cell_type": "code",
      "execution_count": 5,
      "metadata": {
        "id": "wxAJf50Lzld6"
      },
      "outputs": [],
      "source": [
        "sum_purchases = [ 316,  493,  367,  153,  224,  121,  322,  450,  196,  397,  281,\n",
        "  239,  484,  124,  223,  448,  432,  255, 4310, 3524]"
      ]
    },
    {
      "cell_type": "code",
      "source": [
        "x=sum_purchases\n",
        "y=visits\n",
        "mean_x = sum(x) / len(x)\n",
        "mean_y = sum(y) / len(y)\n",
        "xy=[(x[i]-mean_x)*(y[i]-mean_y) for i in range(len(x))]\n",
        "cov_xy=sum(xy)/(len(x)-1)\n",
        "x_minus_mean=[(el-mean_x)**2 for el in x]\n",
        "y_minus_mean=[(el-mean_y)**2 for el in y]\n",
        "std_x_sample=(sum(x_minus_mean)/(len(x)-1))**0.5\n",
        "std_y_sample=(sum(y_minus_mean)/(len(y)-1))**0.5\n",
        "corr_xy=cov_xy/(std_x_sample*std_y_sample)\n",
        "print(corr_xy)"
      ],
      "metadata": {
        "id": "YLNF7VbeT97Q",
        "colab": {
          "base_uri": "https://localhost:8080/"
        },
        "outputId": "8d45f508-28e7-419f-ed21-d826cb77f337"
      },
      "execution_count": 13,
      "outputs": [
        {
          "output_type": "stream",
          "name": "stdout",
          "text": [
            "-0.30265844687666454\n"
          ]
        }
      ]
    },
    {
      "cell_type": "code",
      "source": [
        "import numpy as np\n",
        "\n",
        "r_numpy = np.corrcoef(x, y)[0, 1]\n",
        "print(\"Коефіцієнт Пірсона (numpy):\", r_numpy)"
      ],
      "metadata": {
        "colab": {
          "base_uri": "https://localhost:8080/"
        },
        "id": "3UUEW1gd0HgS",
        "outputId": "c464f642-7243-462d-9f04-eb980bad209d"
      },
      "execution_count": 17,
      "outputs": [
        {
          "output_type": "stream",
          "name": "stdout",
          "text": [
            "Коефіцієнт Пірсона (numpy): -0.3026584468766646\n"
          ]
        }
      ]
    },
    {
      "cell_type": "code",
      "source": [
        "import matplotlib.pyplot as plt\n",
        "\n",
        "plt.scatter(sum_purchases, visits)\n",
        "plt.title('Scatter Plot of Purchases vs. Visits')\n",
        "plt.xlabel('Sum of Purchases')\n",
        "plt.ylabel('Number of Visits');"
      ],
      "metadata": {
        "colab": {
          "base_uri": "https://localhost:8080/",
          "height": 472
        },
        "id": "gaeoGA-5Prr1",
        "outputId": "b4b5ea86-19c1-471f-b8d5-da7b8be0e180"
      },
      "execution_count": 18,
      "outputs": [
        {
          "output_type": "display_data",
          "data": {
            "text/plain": [
              "<Figure size 640x480 with 1 Axes>"
            ],
            "image/png": "[encoded data removed]"
          },
          "metadata": {}
        }
      ]
    },
    {
      "cell_type": "markdown",
      "source": [
        "**Завдання 7**. В попередньому завданні ми помітили, що викиди нам заважають отримати \"правдиве\" значення кореляції. Давайте вилучимо записи, які відповідають значенням з викидами в сумі покупок і обчисліть коеф. кореляції. Для цього поставте `threshold`, який дорінює середньому значенню + 2 стандартних вдіхилля суми покупок і всі значення, які більше за нього, будемо вважати викидами (є і інші правила для визначення викидів - з ним и познайомимось пізніше).\n",
        "\n",
        "Вилучіть значення з обох масивів і обчисліть коеф. кореляції Пірсона з допомогою `numpy` для кількості візитів і суми покупок без записів-викидів. Виведіть результат на екран, побудуйте діаграму розсіювання і проаналізуйте результат: що можемо сказати про залежність в даних?"
      ],
      "metadata": {
        "id": "4pEg0KzSQ6KA"
      }
    },
    {
      "cell_type": "code",
      "source": [
        "import numpy as np\n",
        "import matplotlib.pyplot as plt\n",
        "x = np.array([316, 493, 367, 153, 224, 121, 322, 450, 196, 397, 281,\n",
        "              239, 484, 124, 223, 448, 432, 255, 4310, 3524])\n",
        "y = np.array([6, 2, 10, 3, 9, 9, 2, 3, 6, 6, 10, 2, 5, 10, 3, 5, 4, 7, 4, 2])\n",
        "threshold = np.mean(x) + 2 * np.std(x)\n",
        "mask = x <= threshold\n",
        "x_new = x[mask]\n",
        "y_new = y[mask]\n",
        "r = np.corrcoef(x_new, y_new)[0,1]\n",
        "print(\"Коефіцієнт Пірсона без викидів:\", r)"
      ],
      "metadata": {
        "id": "Yj3Yfaf7UBbc",
        "colab": {
          "base_uri": "https://localhost:8080/"
        },
        "outputId": "01fdc64f-ed6d-4b9c-dc66-d964bc23c2ac"
      },
      "execution_count": 46,
      "outputs": [
        {
          "output_type": "stream",
          "name": "stdout",
          "text": [
            "Коефіцієнт Пірсона без викидів: -0.3685212078127798\n"
          ]
        }
      ]
    },
    {
      "cell_type": "code",
      "source": [
        "# В нашому випадку після застосування threshold ,бачимо, що дані більше 2860 -це вважаються викиди, тобто вилучимо іх зі списку покупок sum_purchases x ,\n",
        "а також двоє останніх даних зі списку y, для отримання більш реалістичного значення коефіцієнту кореляції.\n",
        "Це в нас дані 4310, 3524 -вилучаємо іх  зі списку x, і дані 4, 2 зі списку y."
      ],
      "metadata": {
        "id": "s4VNai6l1_n3"
      },
      "execution_count": null,
      "outputs": []
    },
    {
      "cell_type": "code",
      "source": [
        "import matplotlib.pyplot as plt\n",
        "\n",
        "plt.scatter(x_new, y_new)\n",
        "plt.title('Scatter Plot of Purchases vs. Visits (без викидів)')\n",
        "plt.xlabel('Sum of Purchases')\n",
        "plt.ylabel('Number of Visits')\n",
        "plt.show()"
      ],
      "metadata": {
        "colab": {
          "base_uri": "https://localhost:8080/",
          "height": 472
        },
        "id": "RkoNX3QsHNvc",
        "outputId": "d02b2084-9b1e-4ec4-f40f-fcaa9bee47f9"
      },
      "execution_count": 47,
      "outputs": [
        {
          "output_type": "display_data",
          "data": {
            "text/plain": [
              "<Figure size 640x480 with 1 Axes>"
            ],
            "image/png": "[encoded data removed]"
          },
          "metadata": {}
        }
      ]
    },
    {
      "cell_type": "code",
      "source": [
        "#По оновлених результатах бачимо на графіку: точки розкидані досить хаотично, але з невеликим трендом на спад—\n",
        "тобто покупці, які мають більшу суму покупок, часто мають водночас менше відвідувань.\n",
        "При цьому ми не бачимо явної лінійної залежності  — точки не утворюють чіткої прямої лінії.\n",
        "Це підтверджує і наш  результат коефіцієнту кореляції: коефіцієнт кореляції Пірсона = –0.36, тобто слабка негативна кореляція.\n",
        "Що це означає в реальності: невелике від’ємне значення кореляції означає, що покупці, які приходять рідше, можуть робити більш великі разові покупки,\n",
        "покупці з більшою кількістю відвідувань — купують менше за разову покупку, але частіше відвідують сайт.\n",
        "\n",
        "Тобто немає сильної лінійної залежності між кількістю візитів і загальною сумою витрат — обидва типи покупців існують, і тенденція лише злегка негативна.\n"
      ],
      "metadata": {
        "id": "PV3NrU3XLnTP"
      },
      "execution_count": null,
      "outputs": []
    }
  ]
}